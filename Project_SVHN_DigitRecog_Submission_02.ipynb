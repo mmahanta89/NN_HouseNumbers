{
 "cells": [
  {
   "cell_type": "markdown",
   "metadata": {
    "id": "hF6K7CBYmHp9"
   },
   "source": [
    "### Importing Libraries"
   ]
  },
  {
   "cell_type": "code",
   "execution_count": null,
   "metadata": {
    "id": "vDUrmio5TVKk"
   },
   "outputs": [],
   "source": [
    "import warnings\n",
    "import tensorflow as tf"
   ]
  },
  {
   "cell_type": "code",
   "execution_count": null,
   "metadata": {
    "colab": {
     "base_uri": "https://localhost:8080/",
     "height": 35
    },
    "id": "5Wje83tBThhD",
    "outputId": "98f73431-7116-4ede-a519-50741101bf22"
   },
   "outputs": [],
   "source": [
    "#Viewing Tenserflow version\n",
    "tf.__version__"
   ]
  },
  {
   "cell_type": "code",
   "execution_count": null,
   "metadata": {
    "id": "BGr5B06bTkcY"
   },
   "outputs": [],
   "source": [
    "import matplotlib.pyplot as plt\n",
    "\n",
    "from sklearn.model_selection import train_test_split\n",
    "from tensorflow.keras.datasets import fashion_mnist\n",
    "from tensorflow.keras.models import Sequential\n",
    "from tensorflow.keras.utils import to_categorical\n",
    "\n",
    "from tensorflow.keras.models import Sequential\n",
    "from tensorflow.keras.layers import Activation, Dense\n",
    "from tensorflow.keras import optimizers\n",
    "from tensorflow.keras.layers import BatchNormalization, Dropout"
   ]
  },
  {
   "cell_type": "code",
   "execution_count": null,
   "metadata": {
    "id": "4_1zd02nTmkv"
   },
   "outputs": [],
   "source": [
    "import gdown\n",
    "\n",
    "%matplotlib inline\n",
    "\n",
    "import pandas as pd\n",
    "import numpy as np\n",
    "import matplotlib.pyplot as plt\n",
    "import seaborn as sns"
   ]
  },
  {
   "cell_type": "markdown",
   "metadata": {
    "id": "_Ifz9-8ZmPdU"
   },
   "source": [
    "### Downloading Data"
   ]
  },
  {
   "cell_type": "markdown",
   "metadata": {
    "id": "8fhLxXKqNZ_J"
   },
   "source": [
    "#### Downloading data from google drive"
   ]
  },
  {
   "cell_type": "code",
   "execution_count": null,
   "metadata": {
    "colab": {
     "base_uri": "https://localhost:8080/",
     "height": 105
    },
    "id": "rZ8ptMnaT6s3",
    "outputId": "d0378cd3-de39-4e6a-e224-532e3005d2c6",
    "scrolled": true
   },
   "outputs": [],
   "source": [
    "sharedUrl='https://drive.google.com/file/d/1L2-WXzguhUsCArrFUc8EEkXcj33pahoS/view'\n",
    "dwd_url='https://drive.google.com/uc?export=download&id=' + sharedUrl.split('/')[-2]\n",
    "\n",
    "id = sharedUrl.split(\"/\")[-2]\n",
    "\n",
    "output='SVHN_single_grey1.h5'\n",
    "gdown.download(dwd_url,output,quiet=False)"
   ]
  },
  {
   "cell_type": "code",
   "execution_count": null,
   "metadata": {
    "id": "Ot6w-nNZVFog"
   },
   "outputs": [],
   "source": [
    " \n",
    "#df = pd.read_hdf('SVHN_single_grey1.h5') \n",
    "#print(df)"
   ]
  },
  {
   "cell_type": "code",
   "execution_count": null,
   "metadata": {
    "id": "N2fG985KXKuI"
   },
   "outputs": [],
   "source": [
    "import h5py\n",
    "\n",
    "data=h5py.File('SVHN_single_grey1.h5','r')"
   ]
  },
  {
   "cell_type": "code",
   "execution_count": null,
   "metadata": {
    "colab": {
     "base_uri": "https://localhost:8080/"
    },
    "id": "e_SSgv9ghCtC",
    "outputId": "cb3d8ece-ac54-47ef-92a5-d669ba2852b8"
   },
   "outputs": [],
   "source": [
    "data.keys()"
   ]
  },
  {
   "cell_type": "markdown",
   "metadata": {
    "id": "PAaC-ij6PQFz"
   },
   "source": [
    "\n",
    "\n",
    "*   H5PY file has 3 sets of data for train, test and validation"
   ]
  },
  {
   "cell_type": "markdown",
   "metadata": {
    "id": "vaLwfVWAlwP1"
   },
   "source": [
    "### Extracting data from H5PY file"
   ]
  },
  {
   "cell_type": "markdown",
   "metadata": {
    "id": "XEYmS-bfNpLs"
   },
   "source": [
    "- Saving data from H5PY file desiered variables"
   ]
  },
  {
   "cell_type": "code",
   "execution_count": null,
   "metadata": {
    "id": "OrLqQpNqhH8q"
   },
   "outputs": [],
   "source": [
    "\n",
    "X_train=data['X_train'][:]\n",
    "X_test=data['X_test'][:]\n",
    "X_val=data['X_val'][:]\n",
    "y_train=data['y_train'][:]\n",
    "y_test=data['y_test'][:]\n",
    "y_val=data['y_val'][:]\n"
   ]
  },
  {
   "cell_type": "code",
   "execution_count": null,
   "metadata": {
    "colab": {
     "base_uri": "https://localhost:8080/",
     "height": 35
    },
    "id": "Wikd-nEQnJ6r",
    "outputId": "7236d93d-1a99-4bad-fe79-8d25833fce43"
   },
   "outputs": [],
   "source": [
    "'''\n",
    "X_train=data.get('X_train')\n",
    "X_test=data.get('X_test')\n",
    "X_val=data.get('X_val')\n",
    "y_train=data.get('y_train')\n",
    "y_test=data.get('y_test')\n",
    "y_val=data.get('y_val')\n",
    "'''"
   ]
  },
  {
   "cell_type": "markdown",
   "metadata": {
    "id": "Es2mUMCcmkOs"
   },
   "source": [
    "### Exploring data"
   ]
  },
  {
   "cell_type": "markdown",
   "metadata": {
    "id": "OjNl-S4BNyLQ"
   },
   "source": [
    "- Data types of downloaded data sets"
   ]
  },
  {
   "cell_type": "code",
   "execution_count": null,
   "metadata": {
    "colab": {
     "base_uri": "https://localhost:8080/"
    },
    "id": "BEap9muWmXXD",
    "outputId": "80247e14-b0fb-4687-ecf3-0a1ce068fc98"
   },
   "outputs": [],
   "source": [
    "print(\"Training data X-- Shape :\", X_train.shape,\"and Data Type : \", X_train.dtype)\n",
    "print(\"Testing data X-- Shape :\", X_test.shape,\"and Data Type : \", X_test.dtype)\n",
    "print(\"Validation data X-- Shape :\", X_val.shape,\"and Data Type : \", X_val.dtype)\n",
    "print(\"Training data y-- Shape :\", y_train.shape,\"and Data Type : \", y_train.dtype)\n",
    "print(\"Testing data y-- Shape :\", y_test.shape,\"and Data Type : \", y_test.dtype)\n",
    "print(\"Validation data y-- Shape :\", y_val.shape,\"and Data Type : \", y_val.dtype)"
   ]
  },
  {
   "cell_type": "markdown",
   "metadata": {
    "id": "HR6_XKLZPxlO"
   },
   "source": [
    "- All data set contains images of size 32 * 32 and their lables\n",
    "- Train Data:\n",
    "  - Total Images: 42000\n",
    "  - Image size: 32 X 32\n",
    "  - Image/Independent Data type saved as float\n",
    "  - Dependent or expected output saved as uint8 \n",
    "\n",
    "- Test Data:\n",
    "  - Total Images: 18000\n",
    "  - Image size: 32 X 32\n",
    "  - Data type saved as float\n",
    "  - Image/Independent Data type saved as float\n",
    "  - Dependent or expected output saved as uint8\n",
    "\n",
    "- Validation Data:\n",
    "  - Total Images: 60000\n",
    "  - Image size: 32 X 32\n",
    "  - Data type saved as float\n",
    "  - Image/Independent Data type saved as float\n",
    "  - Dependent or expected output saved as uint8"
   ]
  },
  {
   "cell_type": "markdown",
   "metadata": {
    "id": "zKzQJHNoRZXg"
   },
   "source": [
    "Show first number in the train data set with expected label"
   ]
  },
  {
   "cell_type": "code",
   "execution_count": null,
   "metadata": {
    "colab": {
     "base_uri": "https://localhost:8080/",
     "height": 283
    },
    "id": "a4H5jZ46mp-b",
    "outputId": "9fbdc682-547d-4ff5-f84c-ab7f3f3db172"
   },
   "outputs": [],
   "source": [
    "plt.imshow(X_train[0])    # show first number in the train dataset\n",
    "plt.show()\n",
    "print('Label: ', y_train[0])"
   ]
  },
  {
   "cell_type": "markdown",
   "metadata": {
    "id": "LS3ylYqkRiBx"
   },
   "source": [
    "- on screen we can see there are 3 clear identifiable numbers 1,2,8 but it is tagged to digit 2 only\n",
    "- current image is taking the output as 2 which is the center value\n",
    "\n"
   ]
  },
  {
   "cell_type": "markdown",
   "metadata": {
    "id": "ehBQJgMESGC8"
   },
   "source": [
    "Randomly taking a value from middle of data set - 1050"
   ]
  },
  {
   "cell_type": "code",
   "execution_count": null,
   "metadata": {
    "colab": {
     "base_uri": "https://localhost:8080/",
     "height": 283
    },
    "id": "ZDC_RUUAyKvU",
    "outputId": "5b1d4da7-c5c8-4bc3-f37f-215d0db73840"
   },
   "outputs": [],
   "source": [
    "plt.imshow(X_train[1050])    \n",
    "plt.show()\n",
    "print('Label: ', y_train[1050])"
   ]
  },
  {
   "cell_type": "markdown",
   "metadata": {
    "id": "xR0kEz_6SLC7"
   },
   "source": [
    "- we can still notice the similar pattern as it takes the expected value of middle digit"
   ]
  },
  {
   "cell_type": "markdown",
   "metadata": {
    "id": "xzi92GtJ6EwN"
   },
   "source": [
    "First Value in Test data sets"
   ]
  },
  {
   "cell_type": "code",
   "execution_count": null,
   "metadata": {
    "colab": {
     "base_uri": "https://localhost:8080/",
     "height": 283
    },
    "id": "Pqtyw-b5wzk4",
    "outputId": "76bea54e-c9e4-4d62-94ea-a15fa2ffaeb2"
   },
   "outputs": [],
   "source": [
    "plt.imshow(X_test[0])    # show first number in the test dataset\n",
    "plt.show()\n",
    "print('Label: ', y_test[0])"
   ]
  },
  {
   "cell_type": "code",
   "execution_count": null,
   "metadata": {
    "colab": {
     "base_uri": "https://localhost:8080/",
     "height": 283
    },
    "id": "Q46KXTDv6hGd",
    "outputId": "028b6b40-8b7d-4ac4-ba02-34b2b33a7945"
   },
   "outputs": [],
   "source": [
    "plt.imshow(X_test[200])    \n",
    "plt.show()\n",
    "print('Label: ', y_test[200])"
   ]
  },
  {
   "cell_type": "markdown",
   "metadata": {
    "id": "5L5a07Zv6I9n"
   },
   "source": [
    "First value in Validation data set"
   ]
  },
  {
   "cell_type": "code",
   "execution_count": null,
   "metadata": {
    "colab": {
     "base_uri": "https://localhost:8080/",
     "height": 283
    },
    "id": "Bkhs8SILw4wY",
    "outputId": "01c441ac-25bc-439f-ed7f-4f7bb96f6da7"
   },
   "outputs": [],
   "source": [
    "plt.imshow(X_val[0])    # show first number in the val dataset\n",
    "plt.show()\n",
    "print('Label: ', y_val[0])"
   ]
  },
  {
   "cell_type": "code",
   "execution_count": null,
   "metadata": {
    "colab": {
     "base_uri": "https://localhost:8080/",
     "height": 283
    },
    "id": "JvPxCPpv6okK",
    "outputId": "85ae6318-ff64-4601-ff0d-2c3a19f189c8"
   },
   "outputs": [],
   "source": [
    "plt.imshow(X_val[900])   \n",
    "plt.show()\n",
    "print('Label: ', y_val[900])"
   ]
  },
  {
   "cell_type": "markdown",
   "metadata": {
    "id": "EoPQUdk16Nkn"
   },
   "source": [
    "- We can observe the variation in digits in Validation and Test data sets are similar to Train"
   ]
  },
  {
   "cell_type": "code",
   "execution_count": null,
   "metadata": {
    "colab": {
     "base_uri": "https://localhost:8080/",
     "height": 1000
    },
    "id": "DYpsdpA3X7mz",
    "outputId": "35fe86b5-6052-462c-b900-516ecfc21689"
   },
   "outputs": [],
   "source": [
    "#Visualize the data, Plot first 10 images in the triaining set and their labels.\n",
    "import matplotlib.pyplot as plt\n",
    "%matplotlib inline\n",
    "for i in range(10):\n",
    "    image = X_train[i]\n",
    "    plt.figure(i)\n",
    "    plt.imshow(image)\n",
    "    print('Label: ', y_train[i])"
   ]
  },
  {
   "cell_type": "code",
   "execution_count": null,
   "metadata": {
    "colab": {
     "base_uri": "https://localhost:8080/",
     "height": 611
    },
    "id": "9NIDyNObyE3h",
    "outputId": "bf506421-2567-448a-8ade-2a5742d60243"
   },
   "outputs": [],
   "source": [
    "#view 10 train images\n",
    "#check for orientation and alignments\n",
    "\n",
    "fig=plt.figure(figsize=(10,10))\n",
    "\n",
    "for i in range(1,26):\n",
    "  img=X_train[i]\n",
    "  fig.add_subplot(5,5,i)\n",
    "  plt.imshow(img)\n",
    "\n",
    "plt.show()\n",
    "print('Label: ', y_train[1:26])"
   ]
  },
  {
   "cell_type": "markdown",
   "metadata": {
    "id": "xmH2gupL5WEd"
   },
   "source": [
    "- We can notice there are multiple image with more than one clear images of digit or just one or a blur image of all\n",
    "- Orientation is as well not straight for all\n",
    "- Digits are of different font and sizes as well\n",
    "- Will try to look the values in grayscale"
   ]
  },
  {
   "cell_type": "code",
   "execution_count": null,
   "metadata": {
    "colab": {
     "base_uri": "https://localhost:8080/",
     "height": 918
    },
    "id": "FHg98lqPU-Hy",
    "outputId": "22826228-6bf4-44e3-b2c8-765651fb50d5"
   },
   "outputs": [],
   "source": [
    "#numbers are tilted and not in center\n",
    "#multiple numbers with similar match\n",
    "#consider 149 in image or 33 or 11\n",
    "#check for more orientation and alignments, check in gray scale\n",
    "\n",
    "fig=plt.figure(figsize=(15,15))\n",
    "\n",
    "for i in range(1,101):\n",
    "  img=X_train[i]\n",
    "  fig.add_subplot(10,10,i)\n",
    "  plt.imshow(img,cmap='gray')\n",
    "\n",
    "plt.show()\n",
    "\n",
    "\n",
    "print('Label: ', y_train[1:101])"
   ]
  },
  {
   "cell_type": "markdown",
   "metadata": {
    "id": "IMfDz8KHEEXn"
   },
   "source": [
    "### Reshape and normalize the train and test features "
   ]
  },
  {
   "cell_type": "markdown",
   "metadata": {
    "id": "Dl7ZTUWYiEl3"
   },
   "source": [
    "### Data Pre Processing"
   ]
  },
  {
   "cell_type": "code",
   "execution_count": null,
   "metadata": {
    "id": "7coCp1FA9_2-"
   },
   "outputs": [],
   "source": [
    "#Re importing to set the data from this point -- comment the section later\n",
    "\n",
    "X_train=data['X_train'][:]\n",
    "X_test=data['X_test'][:]\n",
    "X_val=data['X_val'][:]\n",
    "y_train=data['y_train'][:]\n",
    "y_test=data['y_test'][:]\n",
    "y_val=data['y_val'][:]\n"
   ]
  },
  {
   "cell_type": "code",
   "execution_count": null,
   "metadata": {
    "colab": {
     "base_uri": "https://localhost:8080/"
    },
    "id": "rq1bH-GZ7u_C",
    "outputId": "373dc522-67f4-4671-fbbc-330ecd28fd74"
   },
   "outputs": [],
   "source": [
    "X_train.shape"
   ]
  },
  {
   "cell_type": "markdown",
   "metadata": {
    "id": "qTAKaRWj-bNY"
   },
   "source": [
    "- Current shape of data is - 42,000 images with 32X32 image size\n",
    "- We have to reshape the data before model creation or we can do it while model\n",
    " creation as well with model.add(tf.keras.layers.Reshape((1024,),input_shape=(32,32,)))\n",
    " "
   ]
  },
  {
   "cell_type": "markdown",
   "metadata": {
    "id": "UsM-PjWwAIQ4"
   },
   "source": [
    "#### Reshape train and test sets into compatible shapes"
   ]
  },
  {
   "cell_type": "markdown",
   "metadata": {
    "id": "7vCrc3LtBqO_"
   },
   "source": [
    "- Sequential model in tensorflow.keras expects data to be in the format (n_e, n_h, n_w, n_c) \n",
    "n_e= number of examples, n_h = height, n_w = width, n_c = number of channels\n",
    "- labels will be converted to categorical variables"
   ]
  },
  {
   "cell_type": "code",
   "execution_count": null,
   "metadata": {
    "id": "yDB_ulxABQAd"
   },
   "outputs": [],
   "source": [
    "X_train = X_train.reshape((X_train.shape[0], 32,32,1))\n",
    "X_test = X_test.reshape((X_test.shape[0], 32,32,1))\n",
    "X_val = X_val.reshape((X_val.shape[0],32,32,1))"
   ]
  },
  {
   "cell_type": "markdown",
   "metadata": {
    "id": "CkPE82v0CN6g"
   },
   "source": [
    "#### Normalizing data\n",
    "- dividing the RGB codes with 255 (which is the maximum RGB code minus the minimum RGB code)\n",
    "- normalize X_train, X_test & X_val\n",
    "- making sure values are float so that we can get decimal points after division"
   ]
  },
  {
   "cell_type": "code",
   "execution_count": null,
   "metadata": {
    "id": "73qXIIt5BPvN"
   },
   "outputs": [],
   "source": [
    "X_train = X_train.astype('float32')\n",
    "X_test = X_test.astype('float32')\n",
    "X_val = X_val.astype('float32')\n",
    "\n",
    "X_train /= 255\n",
    "X_test /= 255\n",
    "X_val /= 255"
   ]
  },
  {
   "cell_type": "markdown",
   "metadata": {
    "id": "temqKqtLCnrW"
   },
   "source": [
    "Print shape of data and number of images"
   ]
  },
  {
   "cell_type": "code",
   "execution_count": null,
   "metadata": {
    "colab": {
     "base_uri": "https://localhost:8080/"
    },
    "id": "nh3oANB4BPa2",
    "outputId": "2e3e2f0c-02f5-493d-eb4d-3c92da7406c7"
   },
   "outputs": [],
   "source": [
    "print(\"X_train shape:\", X_train.shape)\n",
    "print(\"Images in X_train:\", X_train.shape[0])\n",
    "print(\"Images in X_test:\", X_test.shape[0])\n",
    "print(\"Images in X_val:\", X_val.shape[0])\n",
    "print(\"Max value in X_train:\", X_train.max())\n",
    "print(\"Min value in X_train:\", X_train.min())\n",
    "print(\"Max value in X_test:\", X_test.max())\n",
    "print(\"Min value in X_test:\", X_test.min())\n",
    "print(\"Max value in X_val:\", X_val.max())\n",
    "print(\"Min value in X_val:\", X_val.min())"
   ]
  },
  {
   "cell_type": "markdown",
   "metadata": {
    "id": "C3AteMXZD-tv"
   },
   "source": [
    "#### One hot encode the labels for train and test data"
   ]
  },
  {
   "cell_type": "markdown",
   "metadata": {
    "id": "6aL6nmQJDA4-"
   },
   "source": [
    "##### One-hot encode the class vector\n",
    "\n",
    "- convert class vectors (integers) to binary class matrix\n",
    "- convert y_train, y_test & y_val\n",
    "- number of classes: 10"
   ]
  },
  {
   "cell_type": "code",
   "execution_count": null,
   "metadata": {
    "colab": {
     "base_uri": "https://localhost:8080/"
    },
    "id": "mm1q6VUNBOBd",
    "outputId": "90705a91-0b50-4631-d999-50a4d79404b8"
   },
   "outputs": [],
   "source": [
    "from tensorflow.keras.utils import to_categorical\n",
    "\n",
    "y_train = to_categorical(y_train, num_classes=10)\n",
    "y_test = to_categorical(y_test, num_classes=10)\n",
    "y_val = to_categorical(y_val,num_classes=10)\n",
    "\n",
    "print(\"Shape of y_train:\", y_train.shape)\n",
    "print(\"One value of y_train:\", y_train[0])\n",
    "\n",
    "print(\"Shape of y_test:\", y_test.shape)\n",
    "print(\"One value of y_test:\", y_test[0])\n",
    "\n",
    "print(\"Shape of y_val:\", y_val.shape)\n",
    "print(\"One value of y_val:\", y_val[0])"
   ]
  },
  {
   "cell_type": "markdown",
   "metadata": {
    "id": "PHCtabceD3Yy"
   },
   "source": [
    "### Define the model architecture using TensorFlow with a flatten layer followed by dense layers with activation as ReLu and softmax"
   ]
  },
  {
   "cell_type": "markdown",
   "metadata": {
    "id": "mJlfTgcREQo9"
   },
   "source": [
    "- Initialize a sequential model\n",
    "- Create a sequential model\n",
    "- flatten the data\n",
    "  - add Flatten later\n",
    "  - flatten layers flatten 2D arrays to 1D array before building the fully connected layers\n",
    "- add 'n' dense layers\n",
    "  - number of neurons in first layer: to be experimented\n",
    "  - number of neurons in last layer: number of classes - 10\n",
    "  - activation function in first layer: relu\n",
    "  - activation function in last layer: softmax"
   ]
  },
  {
   "cell_type": "code",
   "execution_count": null,
   "metadata": {
    "id": "Z3_mReQ1AJxe"
   },
   "outputs": [],
   "source": [
    "from tensorflow.keras.models import Sequential\n",
    "from tensorflow.keras.layers import Flatten, Dense\n",
    "\n",
    "model = Sequential()\n",
    "#model.add(Flatten(input_shape=(32, 32, 1)))#reshapes to (1024)=32*32*1#we can use this explicitly as well but keras can analyze the input itself and provide the result\n",
    "model.add(Flatten())\n",
    "model.add(Dense(128, activation=\"relu\"))\n",
    "model.add(Dense(10, activation=\"softmax\"))"
   ]
  },
  {
   "cell_type": "markdown",
   "metadata": {
    "id": "9XD4FOHuFMBp"
   },
   "source": [
    "Compile and fit the model\n",
    "  - let's compile our model\n",
    "    - loss: \"categorical_crossentropy\"\n",
    "    - metrics: \"accuracy\"\n",
    "    - optimizer: \"adam\"\n",
    "\n",
    "  - then next step will be to fit model\n",
    "    - give train data - training features and labels\n",
    "    - batch size: Test\n",
    "    - epochs: 10 - forevaluation for accuracy we have to give higher\n",
    "    - give validation data - testing features and labels"
   ]
  },
  {
   "cell_type": "code",
   "execution_count": null,
   "metadata": {
    "colab": {
     "base_uri": "https://localhost:8080/"
    },
    "id": "C5naCDgIC5JG",
    "outputId": "70fb9665-0b6b-44ea-c322-e45a695837ea"
   },
   "outputs": [],
   "source": [
    "# Compile the model\n",
    "model.compile(loss=\"categorical_crossentropy\", metrics=[\"accuracy\"], optimizer=\"adam\")\n",
    "\n",
    "# Fit the model\n",
    "model.fit(x=X_train, y=y_train, batch_size=30, epochs=10, validation_data=(X_test, y_test))"
   ]
  },
  {
   "cell_type": "code",
   "execution_count": null,
   "metadata": {
    "colab": {
     "base_uri": "https://localhost:8080/"
    },
    "id": "q46NOtjnSAIm",
    "outputId": "710d716c-c665-4db5-d772-93df2116488d"
   },
   "outputs": [],
   "source": [
    "results = model.evaluate(X_test, y_test)\n",
    "print('Accuracy: %f ' % (results[1]*100))\n",
    "print('Loss: %f' % results[0])"
   ]
  },
  {
   "cell_type": "markdown",
   "metadata": {
    "id": "BMMMhJoFJxER"
   },
   "source": [
    "- with just basic setup and 2 dense layers we are getting low accuracy which is less than tossing a coin\n",
    "- Accuracy didnt chagned or converged during 10 accuracies and stayed at same level\n",
    "- will try to change the learning rate and see if it help increase the accuracy"
   ]
  },
  {
   "cell_type": "code",
   "execution_count": null,
   "metadata": {
    "colab": {
     "base_uri": "https://localhost:8080/"
    },
    "id": "Ga57gev3C-7m",
    "outputId": "2dcc43a0-45d8-4707-f485-f9577020909f"
   },
   "outputs": [],
   "source": [
    "model = Sequential()\n",
    "model.add(Flatten())\n",
    "model.add(Dense(128, activation=\"relu\"))\n",
    "model.add(Dense(10, activation=\"softmax\"))\n",
    "\n",
    "#updating learning rate\n",
    "adam = optimizers.Adam(lr = 0.01)\n",
    "# Compile the model\n",
    "model.compile(loss=\"categorical_crossentropy\", metrics=[\"accuracy\"], optimizer=\"adam\")\n",
    "\n",
    "# Fit the model\n",
    "model.fit(x=X_train, y=y_train, batch_size=30, epochs=10, validation_data=(X_test, y_test))"
   ]
  },
  {
   "cell_type": "code",
   "execution_count": null,
   "metadata": {
    "colab": {
     "base_uri": "https://localhost:8080/"
    },
    "id": "vf6PbWUDUTt9",
    "outputId": "246b18fd-5a82-42df-842f-f40e5ce1fb01"
   },
   "outputs": [],
   "source": [
    "results = model.evaluate(X_test, y_test)\n",
    "print('Accuracy: %f ' % (results[1]*100))\n",
    "print('Loss: %f' % results[0])"
   ]
  },
  {
   "cell_type": "markdown",
   "metadata": {
    "id": "smIMJsFgKQst"
   },
   "source": [
    "- With just updating the learing rate is not helping the accuracy at all\n",
    "- we might have to add more layers and use other features to improve the accuracy"
   ]
  },
  {
   "cell_type": "markdown",
   "metadata": {
    "id": "mn043An2K2DC"
   },
   "source": [
    "Updated sequential Model:\n",
    "\n",
    "- Initialize\n",
    "- Flatten\n",
    "- Batch Normalization\n",
    "- Activation Relu\n",
    "- dense layers -5\n",
    "- Activation Softmax for Final layer\n"
   ]
  },
  {
   "cell_type": "code",
   "execution_count": null,
   "metadata": {
    "colab": {
     "base_uri": "https://localhost:8080/"
    },
    "id": "ARf6u0j-Qo3i",
    "outputId": "ec7cb8a4-0def-4a34-f389-4dc05a8cd81c"
   },
   "outputs": [],
   "source": [
    "model = Sequential()\n",
    "model.add(Flatten())\n",
    "model.add(Dense(128))\n",
    "model.add(BatchNormalization())                    \n",
    "model.add(Activation('relu'))    \n",
    "model.add(Dense(10))\n",
    "model.add(Activation('softmax'))\n",
    "\n",
    "#updating learning rate\n",
    "adam = optimizers.Adam(lr = 0.01)\n",
    "# Compile the model\n",
    "model.compile(loss=\"categorical_crossentropy\", metrics=[\"accuracy\"], optimizer=\"adam\")\n",
    "\n",
    "# Fit the model\n",
    "model.fit(x=X_train, y=y_train, batch_size=30, epochs=10, validation_data=(X_test, y_test))"
   ]
  },
  {
   "cell_type": "code",
   "execution_count": null,
   "metadata": {
    "colab": {
     "base_uri": "https://localhost:8080/"
    },
    "id": "gjJ9MM_XVR7c",
    "outputId": "d212ba51-1a69-48c6-ad66-77720e16261c"
   },
   "outputs": [],
   "source": [
    "results = model.evaluate(X_test, y_test)\n",
    "print('Accuracy: %f ' % (results[1]*100))\n",
    "print('Loss: %f' % results[0])"
   ]
  },
  {
   "cell_type": "markdown",
   "metadata": {
    "id": "cuX5-jNjQdUD"
   },
   "source": [
    "- We can observe the accuracy is drastically increased with introduction of batch normalization\n",
    "- We can try with updated learning rate\n",
    "  - Current learning rate is not convergin as fast as we expected, we can increase it to capture the behaviour"
   ]
  },
  {
   "cell_type": "code",
   "execution_count": null,
   "metadata": {
    "colab": {
     "base_uri": "https://localhost:8080/"
    },
    "id": "5Vvm492ZRiQL",
    "outputId": "25cb8248-6a17-40eb-9b4b-a95f0eeaf8cc"
   },
   "outputs": [],
   "source": [
    "#Learning Rate updated from 0.01 to 0.09\n",
    "model = Sequential()\n",
    "model.add(Flatten())\n",
    "model.add(Dense(128))\n",
    "model.add(BatchNormalization())                    \n",
    "model.add(Activation('relu'))    \n",
    "model.add(Dense(10))\n",
    "model.add(Activation('softmax'))\n",
    "\n",
    "#updating learning rate\n",
    "adam = optimizers.Adam(lr = 0.09)\n",
    "# Compile the model\n",
    "model.compile(loss=\"categorical_crossentropy\", metrics=[\"accuracy\"], optimizer=\"adam\")\n",
    "\n",
    "# Fit the model\n",
    "model.fit(x=X_train, y=y_train, epochs=10, validation_data=(X_test, y_test))"
   ]
  },
  {
   "cell_type": "code",
   "execution_count": null,
   "metadata": {
    "colab": {
     "base_uri": "https://localhost:8080/"
    },
    "id": "Y6P6bF45WkOq",
    "outputId": "ea13671d-d150-4c38-8dc3-6558b183c03a"
   },
   "outputs": [],
   "source": [
    "results = model.evaluate(X_test, y_test)\n",
    "print('Accuracy: %f ' % (results[1]*100))\n",
    "print('Loss: %f' % results[0])"
   ]
  },
  {
   "cell_type": "markdown",
   "metadata": {
    "id": "NdjF0LRNXfKW"
   },
   "source": [
    "- Accuracy is improved after increasing the learning rate from 0.01 to 0.09\n",
    "- Our current model is not able to capture the complex relations with image and label, we can improve more by increasing the layers to capture the complex relations"
   ]
  },
  {
   "cell_type": "code",
   "execution_count": null,
   "metadata": {
    "id": "OUL9hICIWUnV"
   },
   "outputs": [],
   "source": []
  },
  {
   "cell_type": "markdown",
   "metadata": {
    "id": "xK79Aiq9YnR6"
   },
   "source": [
    "- We are adding more layers and reducing the learning rate"
   ]
  },
  {
   "cell_type": "code",
   "execution_count": null,
   "metadata": {
    "colab": {
     "base_uri": "https://localhost:8080/"
    },
    "id": "nU7Utkc1C-s2",
    "outputId": "f484aa9b-a336-4299-98b6-4aec4ea8d8d9"
   },
   "outputs": [],
   "source": [
    "# Adding multiple dense layers\n",
    "model = Sequential()\n",
    "model.add(Flatten())\n",
    "model.add(Dense(1024))\n",
    "model.add(BatchNormalization())                    \n",
    "model.add(Activation('relu'))    \n",
    "model.add(Dense(512))\n",
    "model.add(BatchNormalization())                    \n",
    "model.add(Activation('relu'))    \n",
    "model.add(Dense(256))\n",
    "model.add(BatchNormalization())                    \n",
    "model.add(Activation('relu'))    \n",
    "model.add(Dense(128))\n",
    "model.add(BatchNormalization())                    \n",
    "model.add(Activation('relu'))    \n",
    "model.add(Dense(10))\n",
    "model.add(Activation('softmax'))\n",
    "\n",
    "#updating learning rate\n",
    "adam = optimizers.Adam(lr = 0.009)\n",
    "# Compile the model\n",
    "model.compile(loss=\"categorical_crossentropy\", metrics=[\"accuracy\"], optimizer=\"adam\")\n",
    "\n",
    "# Fit the model\n",
    "model.fit(x=X_train, y=y_train, batch_size=30, epochs=10, validation_data=(X_test, y_test))"
   ]
  },
  {
   "cell_type": "code",
   "execution_count": null,
   "metadata": {
    "colab": {
     "base_uri": "https://localhost:8080/"
    },
    "id": "k8Oj5YIlWPir",
    "outputId": "b5820827-039a-41e3-badb-76c33d5d4e89"
   },
   "outputs": [],
   "source": [
    "results = model.evaluate(X_test, y_test)\n",
    "print('Accuracy: %f ' % (results[1]*100))\n",
    "print('Loss: %f' % results[0])"
   ]
  },
  {
   "cell_type": "markdown",
   "metadata": {
    "id": "xDAGxA3fZ64O"
   },
   "source": [
    "- Accuracy is improved for Train and Test both\n",
    "- Will try to update the modle with kernel initialization"
   ]
  },
  {
   "cell_type": "code",
   "execution_count": null,
   "metadata": {
    "id": "wMOo6w4TWPQS"
   },
   "outputs": [],
   "source": []
  },
  {
   "cell_type": "code",
   "execution_count": null,
   "metadata": {
    "id": "1GDmTA_aWO0a"
   },
   "outputs": [],
   "source": []
  },
  {
   "cell_type": "markdown",
   "metadata": {
    "id": "LV2NxOx-bVN8"
   },
   "source": [
    "- Updating model with kernel_initializer='he_normal'"
   ]
  },
  {
   "cell_type": "code",
   "execution_count": null,
   "metadata": {
    "colab": {
     "base_uri": "https://localhost:8080/"
    },
    "id": "7dXfcIklC-hW",
    "outputId": "72f6f994-8d71-4a6c-a13d-81fdbce9c2f8"
   },
   "outputs": [],
   "source": [
    "#kernel_initializer='he_normal'\n",
    "\n",
    "model = Sequential()\n",
    "model.add(Flatten())\n",
    "model.add(Dense(1024,kernel_initializer='he_normal'))\n",
    "model.add(BatchNormalization())                    \n",
    "model.add(Activation('relu'))    \n",
    "model.add(Dense(512,kernel_initializer='he_normal'))\n",
    "model.add(BatchNormalization())                    \n",
    "model.add(Activation('relu'))    \n",
    "model.add(Dense(256,kernel_initializer='he_normal'))\n",
    "model.add(BatchNormalization())                    \n",
    "model.add(Activation('relu'))    \n",
    "model.add(Dense(128,kernel_initializer='he_normal'))\n",
    "model.add(BatchNormalization())                    \n",
    "model.add(Activation('relu'))    \n",
    "model.add(Dense(10,kernel_initializer='he_normal'))\n",
    "model.add(Activation('softmax'))\n",
    "\n",
    "#updating learning rate\n",
    "adam = optimizers.Adam(lr = 0.009)\n",
    "# Compile the model\n",
    "model.compile(loss=\"categorical_crossentropy\", metrics=[\"accuracy\"], optimizer=\"adam\")\n",
    "\n",
    "# Fit the model\n",
    "model.fit(x=X_train, y=y_train, batch_size=30, epochs=10, validation_data=(X_test, y_test))"
   ]
  },
  {
   "cell_type": "code",
   "execution_count": null,
   "metadata": {
    "colab": {
     "base_uri": "https://localhost:8080/"
    },
    "id": "KG50rd3cbeDj",
    "outputId": "ffb566d7-e99f-49b8-d8dd-13f1941f1606"
   },
   "outputs": [],
   "source": [
    "results = model.evaluate(X_test, y_test)\n",
    "print('Accuracy: %f ' % (results[1]*100))\n",
    "print('Loss: %f' % results[0])"
   ]
  },
  {
   "cell_type": "markdown",
   "metadata": {
    "id": "ogGxGxsFUkU6"
   },
   "source": [
    "- Not much impact on accuracy after introducing kernel initialization for test accuracy"
   ]
  },
  {
   "cell_type": "markdown",
   "metadata": {
    "id": "D9RO-Lk9cxhd"
   },
   "source": [
    "- Updating Adam Optimizer with decay"
   ]
  },
  {
   "cell_type": "code",
   "execution_count": null,
   "metadata": {
    "colab": {
     "base_uri": "https://localhost:8080/"
    },
    "id": "pF-XtvutUWYu",
    "outputId": "61be7b54-7757-4518-d7d1-b38f8d31f1c5"
   },
   "outputs": [],
   "source": [
    "#kernel_initializer='he_normal'\n",
    "\n",
    "model = Sequential()\n",
    "model.add(Flatten())\n",
    "model.add(Dense(1024,kernel_initializer='he_normal'))\n",
    "model.add(BatchNormalization())                    \n",
    "model.add(Activation('relu'))    \n",
    "model.add(Dense(512,kernel_initializer='he_normal'))\n",
    "model.add(BatchNormalization())                    \n",
    "model.add(Activation('relu'))    \n",
    "model.add(Dense(256,kernel_initializer='he_normal'))\n",
    "model.add(BatchNormalization())                    \n",
    "model.add(Activation('relu'))    \n",
    "model.add(Dense(128,kernel_initializer='he_normal'))\n",
    "model.add(BatchNormalization())                    \n",
    "model.add(Activation('relu'))    \n",
    "model.add(Dense(10,kernel_initializer='he_normal'))\n",
    "model.add(Activation('softmax'))\n",
    "\n",
    "#updating learning rate\n",
    "adam = optimizers.Adam(lr=0.009, decay=1e-6)\n",
    "# Compile the model\n",
    "model.compile(loss=\"categorical_crossentropy\", metrics=[\"accuracy\"], optimizer=\"adam\")\n",
    "\n",
    "# Fit the model\n",
    "model.fit(x=X_train, y=y_train, batch_size=30, epochs=10, validation_data=(X_test, y_test))"
   ]
  },
  {
   "cell_type": "code",
   "execution_count": null,
   "metadata": {
    "colab": {
     "base_uri": "https://localhost:8080/"
    },
    "id": "osFkAzQfc4nz",
    "outputId": "342eeda7-6012-454a-c0ca-65cabaaf0086"
   },
   "outputs": [],
   "source": [
    "results = model.evaluate(X_test, y_test)\n",
    "print('Accuracy: %f ' % (results[1]*100))\n",
    "print('Loss: %f' % results[0])"
   ]
  },
  {
   "cell_type": "markdown",
   "metadata": {
    "id": "U_EeVLzqV4tE"
   },
   "source": [
    "- Train and Test accuracies are close by after 10 epochs\n",
    "- At this point we can try SGD optimzer as well to capture its behaviour"
   ]
  },
  {
   "cell_type": "code",
   "execution_count": null,
   "metadata": {
    "colab": {
     "base_uri": "https://localhost:8080/"
    },
    "id": "aQQfIOEyC-UG",
    "outputId": "fdddbb3f-3a09-416c-e100-24eae1f35168"
   },
   "outputs": [],
   "source": [
    "#SGD Optimizer\n",
    "model2 = Sequential()\n",
    "model2.add(Flatten())\n",
    "model2.add(Dense(1024,kernel_initializer='he_normal'))\n",
    "model2.add(BatchNormalization())                    \n",
    "model2.add(Activation('relu'))    \n",
    "model2.add(Dense(512,kernel_initializer='he_normal'))\n",
    "model2.add(BatchNormalization())                    \n",
    "model2.add(Activation('relu'))    \n",
    "model2.add(Dense(256,kernel_initializer='he_normal'))\n",
    "model2.add(BatchNormalization())                    \n",
    "model2.add(Activation('relu'))    \n",
    "model2.add(Dense(128,kernel_initializer='he_normal'))\n",
    "model2.add(BatchNormalization())                    \n",
    "model2.add(Activation('relu'))    \n",
    "model2.add(Dense(10,kernel_initializer='he_normal'))\n",
    "model2.add(Activation('softmax'))\n",
    "\n",
    "#updating learning rate\n",
    "adam = optimizers.SGD(lr=0.009, decay=1e-6)\n",
    "# Compile the model\n",
    "model2.compile(loss=\"categorical_crossentropy\", metrics=[\"accuracy\"], optimizer=\"sgd\")\n",
    "\n",
    "# Fit the model\n",
    "model2.fit(x=X_train, y=y_train, batch_size=30, epochs=10, validation_data=(X_test, y_test))"
   ]
  },
  {
   "cell_type": "code",
   "execution_count": null,
   "metadata": {
    "colab": {
     "base_uri": "https://localhost:8080/"
    },
    "id": "3sYkszJQeIPm",
    "outputId": "5c9d0faf-4864-437b-a948-7542233c6bc3"
   },
   "outputs": [],
   "source": [
    "results = model2.evaluate(X_test, y_test)\n",
    "print('Accuracy: %f ' % (results[1]*100))\n",
    "print('Loss: %f' % results[0])"
   ]
  },
  {
   "cell_type": "markdown",
   "metadata": {
    "id": "ZYqc3i0LYCz6"
   },
   "source": [
    "- train and test accuracies are more comparable and close for adam optimizer, will proceed with that only\n"
   ]
  },
  {
   "cell_type": "markdown",
   "metadata": {
    "id": "_hn8ugaEYSmj"
   },
   "source": [
    "-  Increase the Epochs"
   ]
  },
  {
   "cell_type": "code",
   "execution_count": null,
   "metadata": {
    "colab": {
     "base_uri": "https://localhost:8080/"
    },
    "id": "KVYj9Th7C-Hm",
    "outputId": "26061f82-0d97-4209-d9df-4177a6faf55a"
   },
   "outputs": [],
   "source": [
    "model = Sequential()\n",
    "model.add(Flatten())\n",
    "model.add(Dense(1024,kernel_initializer='he_normal'))\n",
    "model.add(BatchNormalization())                    \n",
    "model.add(Activation('relu'))    \n",
    "model.add(Dense(512,kernel_initializer='he_normal'))\n",
    "model.add(BatchNormalization())                    \n",
    "model.add(Activation('relu'))    \n",
    "model.add(Dense(256,kernel_initializer='he_normal'))\n",
    "model.add(BatchNormalization())                    \n",
    "model.add(Activation('relu'))    \n",
    "model.add(Dense(128,kernel_initializer='he_normal'))\n",
    "model.add(BatchNormalization())                    \n",
    "model.add(Activation('relu'))    \n",
    "model.add(Dense(10,kernel_initializer='he_normal'))\n",
    "model.add(Activation('softmax'))\n",
    "\n",
    "#updating learning rate\n",
    "adam = optimizers.Adam(lr=0.01, decay=1e-6)\n",
    "# Compile the model\n",
    "model.compile(loss=\"categorical_crossentropy\", metrics=[\"accuracy\"], optimizer=\"adam\")\n",
    "\n",
    "# Fit the model\n",
    "model.fit(x=X_train, y=y_train, batch_size=30, epochs=150, validation_data=(X_test, y_test))"
   ]
  },
  {
   "cell_type": "code",
   "execution_count": null,
   "metadata": {
    "colab": {
     "base_uri": "https://localhost:8080/"
    },
    "id": "H78ioeq4fRgV",
    "outputId": "c86098b1-aad4-4564-a741-9b551b7f4176"
   },
   "outputs": [],
   "source": [
    "results = model.evaluate(X_test, y_test)\n",
    "print('Accuracy: %f ' % (results[1]*100))\n",
    "print('Loss: %f' % results[0])"
   ]
  },
  {
   "cell_type": "code",
   "execution_count": null,
   "metadata": {
    "colab": {
     "base_uri": "https://localhost:8080/"
    },
    "id": "dc06X5NNSZfK",
    "outputId": "d04da091-4a68-471b-9cf9-feecc6b38464"
   },
   "outputs": [],
   "source": [
    "results = model.evaluate(X_val, y_val)\n",
    "print('Accuracy: %f ' % (results[1]*100))\n",
    "print('Loss: %f' % results[0])"
   ]
  },
  {
   "cell_type": "markdown",
   "metadata": {
    "id": "b_D8-C2hiL2G"
   },
   "source": [
    "- We can observe after giving another 100 epochs to the system we are getting train accuracy more than 95%, test accuracy more than 80% and Validation accuracy close to 95%"
   ]
  },
  {
   "cell_type": "markdown",
   "metadata": {
    "id": "5mNd2zgCQFuR"
   },
   "source": [
    "- Comapre the Test and Validation image with expected and predicted label"
   ]
  },
  {
   "cell_type": "code",
   "execution_count": null,
   "metadata": {
    "id": "srB2PprOSZLN"
   },
   "outputs": [],
   "source": [
    "from sklearn.metrics import accuracy_score, confusion_matrix, precision_score, recall_score, f1_score, precision_recall_curve, auc\n"
   ]
  },
  {
   "cell_type": "code",
   "execution_count": null,
   "metadata": {
    "id": "gRxrM76LhtN8"
   },
   "outputs": [],
   "source": [
    "Y_pred_val_cls = (model.predict(X_val) > 0.5).astype(\"int32\")"
   ]
  },
  {
   "cell_type": "code",
   "execution_count": null,
   "metadata": {
    "colab": {
     "base_uri": "https://localhost:8080/",
     "height": 318
    },
    "id": "c7wIEcaLQgLS",
    "outputId": "d215309e-4f2b-42fa-c386-f80c05085d4c"
   },
   "outputs": [],
   "source": [
    "import matplotlib.pyplot as plt\n",
    "\n",
    "X_val_temp=data['X_val'][:]\n",
    "y_val_temp=data['y_val'][:]\n",
    "\n",
    "plt.imshow(X_val_temp[0])    # show first number in the val dataset\n",
    "plt.show()\n",
    "\n",
    "print('Label: ', y_val_temp[0])\n",
    "print('Actual Label - one hot encoded: ', y_val[0])\n",
    "print('Predicted Label - one hot encoded: ', Y_pred_val_cls[0])"
   ]
  },
  {
   "cell_type": "code",
   "execution_count": null,
   "metadata": {
    "colab": {
     "base_uri": "https://localhost:8080/",
     "height": 318
    },
    "id": "9aikkdMUQgLb",
    "outputId": "0509597f-f96c-448d-e14a-2ca8e87dde89"
   },
   "outputs": [],
   "source": [
    "plt.imshow(X_val_temp[900])    \n",
    "plt.show()\n",
    "\n",
    "print('Label: ', y_val_temp[900])\n",
    "print('Actual Label - one hot encoded:  ', y_val[900])\n",
    "print('Predicted Label - one hot encoded: ', Y_pred_val_cls[900])"
   ]
  },
  {
   "cell_type": "code",
   "execution_count": null,
   "metadata": {
    "colab": {
     "base_uri": "https://localhost:8080/",
     "height": 318
    },
    "id": "1JcWggLG4C7_",
    "outputId": "a7705317-fac5-4b23-ae21-5ca2ed037174"
   },
   "outputs": [],
   "source": [
    "plt.imshow(X_val_temp[9500])    \n",
    "plt.show()\n",
    "\n",
    "print('Label: ', y_val_temp[9500])\n",
    "print('Actual Label - one hot encoded: ', y_val[9500])\n",
    "print('Predicted Label - one hot encoded: ', Y_pred_val_cls[9500])"
   ]
  },
  {
   "cell_type": "markdown",
   "metadata": {
    "id": "vaglWLyY6Waq"
   },
   "source": [
    "### Model Review"
   ]
  },
  {
   "cell_type": "markdown",
   "metadata": {
    "id": "gZGnAQBX6d4S"
   },
   "source": [
    "1.   Base Model:\n",
    "  - with flatten & 2 dense layer having relu and softmax as last layer\n",
    "  - adam optimizer\n",
    "  - noticed the accuracy is very low\n",
    "  - expected reasons could be due to high complex relations with image and its expected label which the simple model is not able to capture and predict\n",
    "2.   Base Model + updated learning Rate for optimizer:\n",
    "  - with updated learning rate accuracies were improved but very slightly\n",
    "  - even with slightly higher learning rate the convergance is not happening and accuracy remained low\n",
    "3.   Base Model + Batch Normalization:\n",
    "  - introducing batch normalization we noticed significant increase in the accuracy\n",
    "  - we are runnig all the model with same epochs and batch to get similar comparison\n",
    "4.   Base Model + Batch Normalization + Additional Dense Layers\n",
    "  - additonal layers gave us much better accuracies\n",
    "5.   Base Model + Batch Normalization + Additional Dense Layers + Kernel initializer\n",
    "  - kernel initializer couldnt improve much on accuracy\n",
    "6.   Base Model + Batch Normalization + Additional Dense Layers + SGD Optimizer\n",
    "  - Accuracies were similar or worse\n",
    "7.   Base Model with Adam Otimizer having 150 epochs\n",
    "  - we were able to get very high train and test accuracies as well as accuracies for Val data set as well"
   ]
  },
  {
   "cell_type": "code",
   "execution_count": null,
   "metadata": {
    "id": "rMnkPiQiC4_u"
   },
   "outputs": [],
   "source": []
  }
 ],
 "metadata": {
  "colab": {
   "collapsed_sections": [],
   "name": "SVHN_Digit_Recognition_v1.ipynb",
   "provenance": [],
   "toc_visible": true
  },
  "kernelspec": {
   "display_name": "Python 3",
   "language": "python",
   "name": "python3"
  },
  "language_info": {
   "codemirror_mode": {
    "name": "ipython",
    "version": 3
   },
   "file_extension": ".py",
   "mimetype": "text/x-python",
   "name": "python",
   "nbconvert_exporter": "python",
   "pygments_lexer": "ipython3",
   "version": "3.7.7"
  }
 },
 "nbformat": 4,
 "nbformat_minor": 1
}
